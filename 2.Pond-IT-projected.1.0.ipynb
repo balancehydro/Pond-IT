{
 "cells": [
  {
   "cell_type": "markdown",
   "metadata": {},
   "source": [
    "# 2. Projected Model\n",
    "\n",
    "\n",
    "### Required inputs:\n",
    "- Soils\n",
    "- Stage-Storage\n",
    "- Historical Climate\n",
    "- Projected Climate\n",
    "- A completed Historical Model (1)\n",
    "\n",
    "Note: The projected model simply runs the selected GCM climate datasets using the solver-derived model fits specified in the Historical Model (1) and as a results, running this model requires the model parameters output file be found in the results folder. It can be found in results\\data\\\\\"site\"_model_params_hist.csv. To simulate different model parameters, use the Projected Design Model (4). \n",
    "\n",
    "\n",
    "### Results: \n",
    "- Model Data\n",
    "- Model Parameters\n",
    "- Grid Plots (annual and decade)\n",
    "\n",
    "To run, specify the filename of your main_inputs_design_hist file (allows you to maintain multiple version of the file if desired). \n",
    "Make sure you have the entire python repo in the same folder as this notebook file (inputs, results, pondit folders, etc.)"
   ]
  },
  {
   "cell_type": "code",
   "execution_count": null,
   "metadata": {
    "scrolled": false
   },
   "outputs": [
    {
     "data": {
      "text/html": [
       "<style>.container { width:95% !important; }</style>"
      ],
      "text/plain": [
       "<IPython.core.display.HTML object>"
      ]
     },
     "metadata": {},
     "output_type": "display_data"
    },
    {
     "name": "stdout",
     "output_type": "stream",
     "text": [
      "Eagle\n",
      "access1-0.1.rcp85\n",
      "access1-3.1.rcp85\n",
      "bcc-csm1-1.1.rcp85\n",
      "bcc-csm1-1-m.1.rcp85\n",
      "canesm2.1.rcp85\n",
      "canesm2.2.rcp85\n",
      "canesm2.3.rcp85\n",
      "canesm2.4.rcp85\n",
      "canesm2.5.rcp85\n",
      "ccsm4.1.rcp85\n",
      "ccsm4.2.rcp85\n",
      "ccsm4.3.rcp85\n",
      "ccsm4.4.rcp85\n",
      "ccsm4.5.rcp85\n",
      "cesm1-bgc.1.rcp85\n",
      "cesm1-cam5.1.rcp85\n",
      "cesm1-cam5.2.rcp85\n",
      "cesm1-cam5.3.rcp85\n",
      "cmcc-cm.1.rcp85\n",
      "cnrm-cm5.1.rcp85\n",
      "cnrm-cm5.2.rcp85\n",
      "cnrm-cm5.4.rcp85\n"
     ]
    }
   ],
   "source": [
    "\n",
    "\n",
    "\n",
    "################### user inputs ###############################\n",
    "\n",
    "\n",
    "\n",
    "## filenames\n",
    "master_input_filename = 'main_inputs'\n",
    "\n",
    "\n",
    "\n",
    "\n",
    "###############################################################\n",
    "repo_folder = './'\n",
    "\n",
    "import os\n",
    "os.chdir(repo_folder)\n",
    "import importlib\n",
    "\n",
    "\n",
    "from pondit.load_data import *\n",
    "from pondit.load_climate_data import *\n",
    "from pondit.calc_ET_proj import *\n",
    "from pondit.calc_model_proj import *\n",
    "from pondit.plot_hydroperiod import *\n",
    "\n",
    "import pandas\n",
    "import numpy as np\n",
    "# import matplotlib.pylab as plt\n",
    "# import scipy.constants\n",
    "# import scipy.optimize\n",
    "# import datetime\n",
    "# import scipy.ndimage.interpolation\n",
    "# import statsmodels.api as sm\n",
    "# import calendar\n",
    "\n",
    "from IPython.core.display import display, HTML\n",
    "display(HTML(\"<style>.container { width:95% !important; }</style>\"))\n",
    "\n",
    "\n",
    "%matplotlib inline\n",
    "\n",
    "folder_in = repo_folder + '/inputs/'\n",
    "folder_out = repo_folder + '/results/'\n",
    "\n",
    "models_to_use = np.array(pandas.read_csv(folder_in + 'climate_models.txt', header=None, index_col=0).index)\n",
    "\n",
    "\n",
    "### load input data common to all sites\n",
    "scalars = pandas.read_csv(folder_in + master_input_filename + '.csv', index_col=0)\n",
    "\n",
    "site_list = scalars.index\n",
    "\n",
    "site_list = scalars.loc[scalars['status'] != 'done', :].index\n",
    "\n",
    "\n",
    "for site in site_list:\n",
    "    scalars_hist = pandas.read_csv(folder_out + 'data/' + site + '_model_params_hist.csv', index_col=0)\n",
    "    print(site)\n",
    "    ##load data hist_model\n",
    "    stage_storage, soils, data_hist, last_hist_date, calib_data = load_data(scalars_hist, site, folder_in)\n",
    "    proj_pre_raw, proj_temp_raw = load_all_climate_data(scalars, site, folder_in)\n",
    "    \n",
    "    sws_calc_dict = {}\n",
    "    sws_calc_elev = pandas.DataFrame(index=proj_pre_raw['date'])\n",
    "    for m in models_to_use:\n",
    "        print(m)\n",
    "        \n",
    "        data = load_climate_data(data_hist, m, scalars_hist, site, folder_in, proj_pre_raw, proj_temp_raw, last_hist_date)\n",
    "        ## calculate ET, using Blaney Criddle\n",
    "        bc_calc = calc_ET_proj(data, scalars, site, repo_folder, last_hist_date)\n",
    "\n",
    "        # calculate model\n",
    "        sws_calc, out = calc_pondit_proj(bc_calc, scalars_hist, site, stage_storage, soils, repo_folder)\n",
    "        sws_calc.to_csv(folder_out + '/data/'+ site + '_' + m + '_proj_data.csv')\n",
    "        sws_calc_dict[m] = sws_calc\n",
    "        sws_calc_date_index = sws_calc.copy()\n",
    "        sws_calc_date_index.index = sws_calc_date_index['date']\n",
    "        sws_calc_elev.loc[:, m] = sws_calc_date_index['pond_elev']\n",
    "    \n",
    "    plot_hydroperiod(sws_calc_elev, scalars, site, folder_out)\n"
   ]
  }
 ],
 "metadata": {
  "anaconda-cloud": {},
  "kernelspec": {
   "display_name": "Python 3",
   "language": "python",
   "name": "python3"
  },
  "language_info": {
   "codemirror_mode": {
    "name": "ipython",
    "version": 3
   },
   "file_extension": ".py",
   "mimetype": "text/x-python",
   "name": "python",
   "nbconvert_exporter": "python",
   "pygments_lexer": "ipython3",
   "version": "3.6.10"
  }
 },
 "nbformat": 4,
 "nbformat_minor": 2
}
